{
 "cells": [
  {
   "cell_type": "code",
   "execution_count": 1,
   "metadata": {},
   "outputs": [
    {
     "name": "stdout",
     "output_type": "stream",
     "text": [
      "Runnning\n",
      "Done running\n",
      "Runnning\n",
      "Done running\n",
      "Runnning\n"
     ]
    },
    {
     "ename": "CancelledError",
     "evalue": "",
     "output_type": "error",
     "traceback": [
      "\u001b[1;31m---------------------------------------------------------------------------\u001b[0m",
      "\u001b[1;31mCancelledError\u001b[0m                            Traceback (most recent call last)",
      "Cell \u001b[1;32mIn[1], line 21\u001b[0m\n\u001b[0;32m     18\u001b[0m   task\u001b[38;5;241m.\u001b[39mcancel()\n\u001b[0;32m     20\u001b[0m \u001b[38;5;66;03m# calls main\u001b[39;00m\n\u001b[1;32m---> 21\u001b[0m \u001b[38;5;28;01mawait\u001b[39;00m main()\n",
      "Cell \u001b[1;32mIn[1], line 16\u001b[0m, in \u001b[0;36mmain\u001b[1;34m()\u001b[0m\n\u001b[0;32m     14\u001b[0m task \u001b[38;5;241m=\u001b[39m asyncio\u001b[38;5;241m.\u001b[39mcreate_task(example_function())\n\u001b[0;32m     15\u001b[0m \u001b[38;5;66;03m# momentarily pause to begin the await\u001b[39;00m\n\u001b[1;32m---> 16\u001b[0m \u001b[38;5;28;01mawait\u001b[39;00m asyncio\u001b[38;5;241m.\u001b[39msleep(\u001b[38;5;241m5\u001b[39m)\n\u001b[0;32m     17\u001b[0m \u001b[38;5;66;03m# resume function\u001b[39;00m\n\u001b[0;32m     18\u001b[0m task\u001b[38;5;241m.\u001b[39mcancel()\n",
      "File \u001b[1;32mC:\\Python311\\Lib\\asyncio\\tasks.py:639\u001b[0m, in \u001b[0;36msleep\u001b[1;34m(delay, result)\u001b[0m\n\u001b[0;32m    635\u001b[0m h \u001b[38;5;241m=\u001b[39m loop\u001b[38;5;241m.\u001b[39mcall_later(delay,\n\u001b[0;32m    636\u001b[0m                     futures\u001b[38;5;241m.\u001b[39m_set_result_unless_cancelled,\n\u001b[0;32m    637\u001b[0m                     future, result)\n\u001b[0;32m    638\u001b[0m \u001b[38;5;28;01mtry\u001b[39;00m:\n\u001b[1;32m--> 639\u001b[0m     \u001b[38;5;28;01mreturn\u001b[39;00m \u001b[38;5;28;01mawait\u001b[39;00m future\n\u001b[0;32m    640\u001b[0m \u001b[38;5;28;01mfinally\u001b[39;00m:\n\u001b[0;32m    641\u001b[0m     h\u001b[38;5;241m.\u001b[39mcancel()\n",
      "\u001b[1;31mCancelledError\u001b[0m: "
     ]
    },
    {
     "name": "stdout",
     "output_type": "stream",
     "text": [
      "Done running\n",
      "Runnning\n",
      "Done running\n",
      "Runnning\n",
      "Done running\n",
      "Runnning\n"
     ]
    }
   ],
   "source": [
    "import asyncio\n",
    "\n",
    "async def example_function():\n",
    "  while True: \n",
    "    # print item\n",
    "    print(f\"Runnning\")\n",
    "    # await sleep for one second\n",
    "    await asyncio.sleep(1)\n",
    "    # print the next statement\n",
    "    print(f\"Done running\")\n",
    "\n",
    "async def main():\n",
    "  # begin running task\n",
    "  task = asyncio.create_task(example_function())\n",
    "  # momentarily pause to begin the await\n",
    "  await asyncio.sleep(5)\n",
    "  # resume function\n",
    "  task.cancel()\n",
    "\n",
    "# calls main\n",
    "await main()"
   ]
  },
  {
   "cell_type": "code",
   "execution_count": null,
   "metadata": {},
   "outputs": [
    {
     "name": "stdout",
     "output_type": "stream",
     "text": [
      "Total execution time: 32.07 seconds\n",
      "Agent 0: [2, 3, 5, 2, 5, 1, 3, 3, 2, 1, 5]\n",
      "Agent 1: [4, 5, 4, 5, 3, 2, 1, 3, 3]\n",
      "Agent 2: [1, 4, 4, 5, 1, 2, 2, 3, 4, 5]\n",
      "Agent 3: [5, 4, 3, 5, 4, 1, 2, 4, 3]\n"
     ]
    }
   ],
   "source": [
    "import asyncio\n",
    "import time\n",
    "import numpy as np\n",
    "\n",
    "global state \n",
    "\n",
    "class State():\n",
    "    def __init__(self):\n",
    "        self.state = {}\n",
    "        self.state_lock = asyncio.Lock() # Global Lock for safe state updates\n",
    "\n",
    "class Agent():\n",
    "    def __init__(self, id):\n",
    "        self.id = id\n",
    "\n",
    "    async def execute(self):\n",
    "        \"\"\"Simulate an agent performing a task.\"\"\"\n",
    "        randint = np.random.randint(1, 6)\n",
    "        factorial = 1\n",
    "        for i in range(1, randint + 1):\n",
    "            factorial *= i  # Simulating some computation\n",
    "\n",
    "        await asyncio.sleep(randint)  # Simulate API call or delay\n",
    "\n",
    "        return randint\n",
    "\n",
    "    async def agent_loop(self, id, ostate, start_time, time_limit):\n",
    "        \"\"\"Each agent runs its task repeatedly until the time limit is reached.\"\"\"\n",
    "        while time.time() - start_time < time_limit:\n",
    "            result = await self.execute()\n",
    "            async with ostate.state_lock:\n",
    "                if id not in ostate.state.keys():\n",
    "                    ostate.state[id] = []\n",
    "                ostate.state[id].append(result)\n",
    "            # print(f\"Agent {x} completed task with result: {result}\")\n",
    "\n",
    "async def main(agents, time_limit, state):\n",
    "    \"\"\"Start agent loops and run them asynchronously until the time limit.\"\"\"\n",
    "    start_time = time.time()\n",
    "    \n",
    "    # Create a task for each agent that will keep running\n",
    "    tasks = [asyncio.create_task(x.agent_loop(x.id, state, start_time, time_limit)) for x in agents]\n",
    "    \n",
    "    # Wait for all tasks to stop when time limit is reached\n",
    "    await asyncio.gather(*tasks)\n",
    "\n",
    "# Define agents and time limit\n",
    "ostate = State()\n",
    "agents = [Agent(0), Agent(1), Agent(2), Agent(3)]\n",
    "time_limit = 30  # Run for 10 seconds\n",
    "\n",
    "start_time = time.time()\n",
    "await main(agents, time_limit, ostate)\n",
    "end_time = time.time()\n",
    "\n",
    "print(f\"Total execution time: {end_time - start_time:.2f} seconds\")\n",
    "for agent, results in sorted(ostate.state.items()):\n",
    "    print(f\"Agent {agent}: {results}\")\n"
   ]
  },
  {
   "cell_type": "code",
   "execution_count": 1,
   "metadata": {},
   "outputs": [
    {
     "name": "stdout",
     "output_type": "stream",
     "text": [
      "Total execution time: 15.55 seconds\n",
      "Agent 0: ['Warsaw, 0.6603217124938965', 'Tokyo, 1.162505865097046', 'Helsinki, 1.7051441669464111', 'Oslo, 2.2559573650360107', 'Berlin, 2.7698464393615723', 'Tokyo, 3.41169810295105', 'Tokyo, 3.929084300994873', 'Nairobi, 4.464965105056763', 'Bishkek, 4.995843410491943', 'Hanoi, 5.583045721054077', 'Helsinki, 6.350046634674072', 'Bucharest, 6.932950735092163', 'Tokyo, 7.481956958770752', 'Tokyo, 8.08025336265564', 'Hanoi, 8.719014406204224', 'Helsinki, 10.483686447143555', 'Vienna, 11.3879976272583', 'Tunis, 11.992833137512207', 'Oslo, 12.629380464553833', 'Bangkok, 13.21861982345581', 'Lisbon, 14.00692892074585', 'Tokyo, 14.612683057785034', 'Lisbon, 15.244638919830322']\n",
      "Agent 1: ['Nairobi, 0.5871882438659668', 'Lima, 1.189368724822998', 'Lisbon, 1.741905927658081', 'Bamako, 2.2960007190704346', 'Tokyo, 2.892963409423828', 'Helsinki, 3.432673215866089', 'Vienna, 4.433759927749634', 'Tunis, 4.987709045410156', 'Tallinn, 5.56728982925415', 'Hanoi, 6.205966472625732', 'Hanoi, 6.724200248718262', 'Lima, 7.289474248886108', 'Tokyo, 7.858356475830078', 'Tokyo, 8.40280795097351', 'Tokyo, 9.06728196144104', 'Nairobi, 9.64516806602478', 'Helsinki, 10.296654462814331', 'Buenos Aires, 10.862593650817871', 'Helsinki, 11.472357273101807', 'Malabo, 12.00195026397705', 'Nairobi, 12.650945663452148', 'Nairobi, 13.266239404678345', 'Hanoi, 13.873632192611694', 'Sucre, 14.52741026878357', 'Nairobi, 15.167524337768555']\n",
      "Agent 2: ['Nairobi, 0.7637166976928711', 'Banjul, 1.3476667404174805', 'Helsinki, 2.332868814468384', 'Bucharest, 2.9082067012786865', 'Helsinki, 3.47615647315979', 'Bangkok, 4.472746849060059', 'Tokyo, 5.171488523483276', 'Wellington, 5.706786394119263', 'Tokyo, 6.324840784072876', 'Helsinki, 6.916708707809448', 'Tokyo, 7.595423460006714', 'Lisbon, 8.231791734695435', 'Prague, 8.807427883148193', 'Tokyo, 9.690593719482422', 'Lisbon, 10.25382399559021', 'Wellington, 10.908666610717773', 'Tokyo, 11.459018468856812', 'Tokyo, 12.465998411178589', 'Lisbon, 13.057464122772217', 'Lisbon, 13.62414813041687', 'Lima, 14.2523934841156', 'Helsinki, 15.434038162231445']\n",
      "Agent 3: ['Lisbon, 0.5668070316314697', 'Lisbon, 1.1278159618377686', 'Lima, 1.7907071113586426', 'Tokyo, 2.666302442550659', 'Helsinki, 3.1738531589508057', 'Oslo, 3.7264318466186523', 'Lisbon, 4.3027403354644775', 'Lima, 5.595202684402466', 'Tokyo, 6.287834644317627', 'Nairobi, 6.880184650421143', 'Lisbon, 7.451471567153931', 'Berlin, 8.00360894203186', 'Hanoi, 8.570174217224121', 'Lisbon, 9.139381885528564', 'Helsinki, 9.693658113479614', 'Tokyo, 10.2790367603302', 'Oslo, 10.928898096084595', 'Lisbon, 11.624685049057007', 'Tokyo, 12.221160173416138', 'Helsinki, 12.855129718780518', 'Lisbon, 13.446281671524048', 'Canberra, 14.333187341690063', 'Tokyo, 15.19652795791626']\n"
     ]
    }
   ],
   "source": [
    "import asyncio\n",
    "import time\n",
    "import numpy as np\n",
    "from openai import OpenAI\n",
    "from openai import AsyncOpenAI\n",
    "\n",
    "# Load in API Key and Handle Errors\n",
    "import os\n",
    "from dotenv import load_dotenv\n",
    "\n",
    "load_dotenv()\n",
    "openai_api_key = os.getenv(\"OPENAI_API_KEY\")\n",
    "\n",
    "client = AsyncOpenAI(api_key = openai_api_key)\n",
    "\n",
    "\n",
    "global state \n",
    "\n",
    "class State():\n",
    "    def __init__(self):\n",
    "        self.state = {}\n",
    "        self.state_lock = asyncio.Lock() # Global Lock for safe state updates\n",
    "\n",
    "class Agent():\n",
    "    def __init__(self, id):\n",
    "        self.id = id\n",
    "        self.messages = []\n",
    "\n",
    "    async def execute(self):\n",
    "        # Query the LLM with full stack of current messages\n",
    "        completion = await client.chat.completions.create(\n",
    "            model = \"gpt-4o-mini\",\n",
    "            messages = self.messages\n",
    "        )\n",
    "        return completion.choices[0].message # This returns only the AI's response in text without any \"context\". \n",
    "\n",
    "\n",
    "    async def agent_loop(self, ostate, start_time, time_limit):\n",
    "        \"\"\"Each agent runs its task repeatedly until the time limit is reached.\"\"\"\n",
    "        while time.time() - start_time < time_limit:\n",
    "            self.messages.append({'role':'system', 'content':'Return the name of a random capital city of the World'})\n",
    "            random_wait = .01 * np.random.randint(0, 5)\n",
    "            await asyncio.sleep(random_wait)\n",
    "            task = asyncio.create_task(self.execute())\n",
    "            result = await task\n",
    "            async with ostate.state_lock:\n",
    "                if self.id not in ostate.state.keys():\n",
    "                    ostate.state[self.id] = []\n",
    "                ostate.state[self.id].append(f\"{result.content}, {time.time() - start_time}\")\n",
    "            \n",
    "            await asyncio.sleep(0.1)\n",
    "            # print(f\"Agent {x} completed task with result: {result}\")\n",
    "\n",
    "async def main(agents, time_limit, state):\n",
    "    \"\"\"Start agent loops and run them asynchronously until the time limit.\"\"\"\n",
    "    start_time = time.time()\n",
    "    \n",
    "    # Create a task for each agent that will keep running\n",
    "    tasks = [asyncio.create_task(x.agent_loop(state, start_time, time_limit)) for x in agents]\n",
    "    \n",
    "    # Wait for all tasks to stop when time limit is reached\n",
    "    await asyncio.gather(*tasks)\n",
    "\n",
    "# Define agents and time limit\n",
    "ostate = State()\n",
    "agents = [Agent(0), Agent(1), Agent(2), Agent(3)]\n",
    "time_limit = 15  # Run for 10 seconds\n",
    "\n",
    "start_time = time.time()\n",
    "await main(agents, time_limit, ostate)\n",
    "end_time = time.time()\n",
    "\n",
    "print(f\"Total execution time: {end_time - start_time:.2f} seconds\")\n",
    "for agent, results in sorted(ostate.state.items()):\n",
    "    print(f\"Agent {agent}: {results}\")\n"
   ]
  },
  {
   "cell_type": "code",
   "execution_count": 7,
   "metadata": {},
   "outputs": [
    {
     "name": "stdout",
     "output_type": "stream",
     "text": [
      "ChatCompletionMessage(content='I don’t have personal preferences, but I can help you find information about colors or discuss their meanings and associations! Do you have a favorite color?', refusal=None, role='assistant', audio=None, function_call=None, tool_calls=None)\n",
      "<class 'openai.types.chat.chat_completion_message.ChatCompletionMessage'>\n"
     ]
    }
   ],
   "source": [
    "import asyncio\n",
    "import time\n",
    "import numpy as np\n",
    "from openai import OpenAI\n",
    "from openai import AsyncOpenAI\n",
    "\n",
    "# Load in API Key and Handle Errors\n",
    "import os\n",
    "from dotenv import load_dotenv\n",
    "\n",
    "load_dotenv()\n",
    "openai_api_key = os.getenv(\"OPENAI_API_KEY\")\n",
    "\n",
    "client = AsyncOpenAI(api_key = openai_api_key)\n",
    "\n",
    "\n",
    "global state \n",
    "\n",
    "class State():\n",
    "    def __init__(self):\n",
    "        self.state = {}\n",
    "        self.state_lock = asyncio.Lock() # Global Lock for safe state updates\n",
    "\n",
    "class Agent():\n",
    "    def __init__(self, id):\n",
    "        self.id = id\n",
    "        self.messages = []\n",
    "\n",
    "    async def execute(self):\n",
    "        # Query the LLM with full stack of current messages\n",
    "        completion = await client.chat.completions.create(\n",
    "            model = \"gpt-4o-mini\",\n",
    "            messages = self.messages\n",
    "        )\n",
    "        return completion.choices[0].message # This returns only the AI's response in text without any \"context\". \n",
    "\n",
    "\n",
    "    async def agent_loop(self, ostate, start_time, time_limit):\n",
    "        \"\"\"Each agent runs its task repeatedly until the time limit is reached.\"\"\"\n",
    "        while time.time() - start_time < time_limit:\n",
    "            self.messages.append({'role':'system', 'content':'Return the name of a random capital city of the World'})\n",
    "            random_wait = .01 * np.random.randint(0, 5)\n",
    "            await asyncio.sleep(random_wait)\n",
    "            task = asyncio.create_task(self.execute())\n",
    "            result = await task\n",
    "            async with ostate.state_lock:\n",
    "                if self.id not in ostate.state.keys():\n",
    "                    ostate.state[self.id] = []\n",
    "                ostate.state[self.id].append(f\"{result.content}, {time.time() - start_time}\")\n",
    "            \n",
    "            await asyncio.sleep(0.1)\n",
    "            # print(f\"Agent {x} completed task with result: {result}\")\n",
    "\n",
    "async def main(agents, time_limit, state):\n",
    "    \"\"\"Start agent loops and run them asynchronously until the time limit.\"\"\"\n",
    "    start_time = time.time()\n",
    "    \n",
    "    # Create a task for each agent that will keep running\n",
    "    tasks = [asyncio.create_task(x.agent_loop(state, start_time, time_limit)) for x in agents]\n",
    "    \n",
    "    # Wait for all tasks to stop when time limit is reached\n",
    "    await asyncio.gather(*tasks)\n",
    "\n",
    "# Define agents and time limit\n",
    "ostate = State()\n",
    "agent = Agent(0)\n",
    "agent.messages.append({\"role\":\"user\", \"content\":\"What's your favorite color?\"})\n",
    "x = await agent.execute()\n",
    "print(x)\n",
    "print(type(x))\n"
   ]
  },
  {
   "cell_type": "code",
   "execution_count": 9,
   "metadata": {},
   "outputs": [
    {
     "ename": "TypeError",
     "evalue": "BaseModel.__init__() takes 1 positional argument but 2 were given",
     "output_type": "error",
     "traceback": [
      "\u001b[1;31m---------------------------------------------------------------------------\u001b[0m",
      "\u001b[1;31mTypeError\u001b[0m                                 Traceback (most recent call last)",
      "Cell \u001b[1;32mIn[9], line 5\u001b[0m\n\u001b[0;32m      2\u001b[0m \u001b[38;5;28;01mdef\u001b[39;00m\u001b[38;5;250m \u001b[39m\u001b[38;5;21mchat_msg\u001b[39m():\n\u001b[0;32m      3\u001b[0m   \u001b[38;5;28;01mreturn\u001b[39;00m openai\u001b[38;5;241m.\u001b[39mtypes\u001b[38;5;241m.\u001b[39mchat\u001b[38;5;241m.\u001b[39mchat_completion_message\u001b[38;5;241m.\u001b[39mChatCompletionMessage({\u001b[38;5;124m'\u001b[39m\u001b[38;5;124mrole\u001b[39m\u001b[38;5;124m'\u001b[39m:\u001b[38;5;124m'\u001b[39m\u001b[38;5;124muser\u001b[39m\u001b[38;5;124m'\u001b[39m, \u001b[38;5;124m'\u001b[39m\u001b[38;5;124mcontent\u001b[39m\u001b[38;5;124m'\u001b[39m:\u001b[38;5;124m'\u001b[39m\u001b[38;5;124mExample\u001b[39m\u001b[38;5;124m'\u001b[39m})\n\u001b[1;32m----> 5\u001b[0m \u001b[38;5;28mprint\u001b[39m(\u001b[43mchat_msg\u001b[49m\u001b[43m(\u001b[49m\u001b[43m)\u001b[49m)\n",
      "Cell \u001b[1;32mIn[9], line 3\u001b[0m, in \u001b[0;36mchat_msg\u001b[1;34m()\u001b[0m\n\u001b[0;32m      2\u001b[0m \u001b[38;5;28;01mdef\u001b[39;00m\u001b[38;5;250m \u001b[39m\u001b[38;5;21mchat_msg\u001b[39m():\n\u001b[1;32m----> 3\u001b[0m   \u001b[38;5;28;01mreturn\u001b[39;00m \u001b[43mopenai\u001b[49m\u001b[38;5;241;43m.\u001b[39;49m\u001b[43mtypes\u001b[49m\u001b[38;5;241;43m.\u001b[39;49m\u001b[43mchat\u001b[49m\u001b[38;5;241;43m.\u001b[39;49m\u001b[43mchat_completion_message\u001b[49m\u001b[38;5;241;43m.\u001b[39;49m\u001b[43mChatCompletionMessage\u001b[49m\u001b[43m(\u001b[49m\u001b[43m{\u001b[49m\u001b[38;5;124;43m'\u001b[39;49m\u001b[38;5;124;43mrole\u001b[39;49m\u001b[38;5;124;43m'\u001b[39;49m\u001b[43m:\u001b[49m\u001b[38;5;124;43m'\u001b[39;49m\u001b[38;5;124;43muser\u001b[39;49m\u001b[38;5;124;43m'\u001b[39;49m\u001b[43m,\u001b[49m\u001b[43m \u001b[49m\u001b[38;5;124;43m'\u001b[39;49m\u001b[38;5;124;43mcontent\u001b[39;49m\u001b[38;5;124;43m'\u001b[39;49m\u001b[43m:\u001b[49m\u001b[38;5;124;43m'\u001b[39;49m\u001b[38;5;124;43mExample\u001b[39;49m\u001b[38;5;124;43m'\u001b[39;49m\u001b[43m}\u001b[49m\u001b[43m)\u001b[49m\n",
      "\u001b[1;31mTypeError\u001b[0m: BaseModel.__init__() takes 1 positional argument but 2 were given"
     ]
    }
   ],
   "source": [
    "import openai\n",
    "def chat_msg():\n",
    "  return openai.types.chat.chat_completion_message.ChatCompletionMessage({'role':'user', 'content':'Example'})\n",
    "\n",
    "print(chat_msg())"
   ]
  },
  {
   "cell_type": "code",
   "execution_count": null,
   "metadata": {},
   "outputs": [],
   "source": [
    "openai.types.chat.chat_completion_message.ChatCompletionMessage(content='No response received due to limit error. Please try again.')"
   ]
  },
  {
   "cell_type": "code",
   "execution_count": 5,
   "metadata": {},
   "outputs": [
    {
     "name": "stdout",
     "output_type": "stream",
     "text": [
      "[1, 2, 3, 4, 5, 6]\n"
     ]
    }
   ],
   "source": [
    "rewards = [4,5,6]\n",
    "init = [1,2,3]\n",
    "\n",
    "init += rewards\n",
    "print(init)"
   ]
  },
  {
   "cell_type": "code",
   "execution_count": 4,
   "metadata": {},
   "outputs": [
    {
     "name": "stdout",
     "output_type": "stream",
     "text": [
      "{}\n",
      "{}\n"
     ]
    }
   ],
   "source": [
    "apple = None\n",
    "smith = {\"apples\": apple or {}}\n",
    "\n",
    "print(smith['apples'])\n",
    "print(apple or {})"
   ]
  },
  {
   "cell_type": "code",
   "execution_count": 2,
   "metadata": {},
   "outputs": [
    {
     "name": "stdout",
     "output_type": "stream",
     "text": [
      "Exception occurred in experiment 0: name 'number' is not defined\n",
      "Exception occurred in experiment 1: name 'number' is not defined\n",
      "Exception occurred in experiment 2: name 'number' is not defined\n",
      "Exception occurred in experiment 3: name 'number' is not defined\n",
      "Exception occurred in experiment 4: name 'number' is not defined\n"
     ]
    }
   ],
   "source": [
    "results = []\n",
    "# Run trials\n",
    "for idx in range(5):\n",
    "    try:\n",
    "        results.append(number)\n",
    "        await asyncio.sleep(5)\n",
    "    except Exception as e:\n",
    "        print(f\"Exception occurred in experiment {idx}: {e}\")"
   ]
  },
  {
   "cell_type": "code",
   "execution_count": 11,
   "metadata": {},
   "outputs": [],
   "source": [
    "import numpy as np\n",
    "import random"
   ]
  },
  {
   "cell_type": "code",
   "execution_count": 17,
   "metadata": {},
   "outputs": [
    {
     "name": "stdout",
     "output_type": "stream",
     "text": [
      "Available ids: [9161, 6500, 7995, 2721, 1504, 3965, 4685, 4693, 5060, 8570, 1604, 3867, 9224, 2730, 8650, 7175, 4444, 7201, 8297, 1111, 3040, 1221, 1227, 9253, 8619, 3208, 4134, 5848, 2754, 1488, 1916, 8634, 1070, 7776, 5032, 1880, 1347, 9619, 3650, 8882, 6924, 2474, 7427, 7949, 3822, 1000, 4807, 7477, 5829, 1333, 2056, 2163, 3234, 5163, 1811, 5867, 3025, 3204, 9373, 9683, 9976, 5634, 4625, 6824, 3756, 3551, 9922, 2565, 8644, 9254, 2890, 4767, 4747, 9544, 2615, 4079, 6204, 8671, 3809, 1472, 2122, 4225, 3425, 8145, 5297, 5033, 7156, 4114, 7381, 7118, 9734, 2905, 7656, 3779, 2559, 1409, 8639, 5661, 4515, 1855, 7077, 1124, 2362, 1958, 3498, 9070, 6027, 3927, 6761, 2244, 7566, 6277, 7305, 2227, 3030, 5292, 1774, 3952, 7551, 1700, 4588, 5168, 7967, 6267, 1734, 1161, 5439, 8660, 5170, 1609, 6069, 4337, 4916, 8337, 5731, 3135, 1831, 2455, 4019, 3945, 9351, 9698, 1282, 2564, 3036, 3156, 5464, 2719, 8951, 3846, 4386, 5389, 2109, 6441, 4718, 8885, 6696, 8518, 9704, 1419, 4152, 9416, 3444, 8640, 3037, 6954, 8913, 2349, 6785, 6999, 4010, 2451, 8627, 4331, 4234, 3028, 2165, 3391, 6364, 2524, 7872, 7970, 2571, 4062, 9424, 4976, 7164, 2702, 4812, 3851, 8442, 3560, 8715, 6135, 9156, 2070, 6951, 3295, 7421, 9441, 6800, 8819, 5040, 4841, 8580, 2958, 6870, 9145, 6455, 2229, 9443, 1257, 8217, 3058, 1933, 3686, 3679, 1396, 5570, 1561, 3017, 9862, 2757, 8633, 9805, 2663, 6126, 6058, 8222, 2765, 1255, 5534, 8180, 5550, 4443, 1679, 8243, 3175, 4488, 7254, 9061, 5658, 5601, 5482, 8235, 1682, 8088, 9106, 7050, 8040, 1969, 9960, 8977, 3222, 7087, 9494, 4688, 7832, 6807, 3996, 6860, 9210, 3157, 6059, 4436, 9233, 7434, 6753, 2243, 7430, 2442, 5659, 7364, 2887, 2324, 8767, 7234, 7681, 7349, 2390, 2911, 2981, 6885, 8934, 9682, 8453, 1429, 3344, 7284, 3962, 4213, 5393, 2153, 9752, 4647, 8185, 5930, 8110, 2862, 2783, 7690, 6221, 4785, 9207, 5690, 5072, 5958, 9536, 4927, 8100, 8531, 7752, 2573, 4309, 4070, 2789, 5435, 1648, 9001, 7261, 7423, 2250, 7589, 8464, 6693, 9480, 8685, 1321, 8381, 3500, 2745, 1712, 6746, 9345, 7037, 9518, 7689, 1307, 2668, 7110, 2483, 3407, 5122, 2404, 3207, 9946, 9753, 6513, 9898, 2011, 2034, 7870, 7506, 1302, 1189, 2076, 4705, 9178, 4894, 3384, 1417, 3761, 7595, 3989, 7406, 6681, 3575, 5370, 5927, 9554, 1525, 7513, 4741, 1879, 6945, 6380, 4043, 1355, 6674, 1614, 7272, 4981, 2653, 6821, 6734, 5089, 9018, 6453, 3938, 6828, 8959, 8569, 6910, 2247, 7490, 9256, 2733, 4315, 4325, 8929, 6419, 9471, 3267, 5266, 8372, 4154, 9587, 6820, 4646, 4123, 9039, 3415, 4778, 8503, 8564, 5173, 8709, 2855, 3839, 2835, 9005, 6345, 6331, 8551, 6803, 1672, 6665, 8288, 1942, 9342, 2192, 7541, 4091, 8886, 1385, 2246, 1364, 4787, 7133, 7708, 9530, 6591, 2314, 5256, 6732, 2809, 3793, 8982, 2006, 6180, 8106, 7353, 7931, 3264, 6650, 3862, 4770, 8867, 1464, 6347, 1842, 2416, 5186, 9916, 1144, 4394, 2743, 5748, 3365, 8156, 9243, 8236, 8794, 6071, 4471, 1563, 2020, 5839, 7232, 2139, 6275, 9833, 5795, 3541, 1840, 8560, 5966, 7417, 2839, 3922, 6035, 3901, 4115, 8373, 3335, 2207, 5577, 7154, 3145, 4326, 2148, 1437, 6613, 8343, 8912, 8278, 1277, 8432, 8067, 5157, 6831, 1549, 5902, 3734, 7195, 6266, 2062, 2819, 7907, 3474, 5635, 3491, 2751, 1752, 1152, 9083, 3869, 9052, 9654, 9423, 6383, 6507, 3439, 8666, 7744, 4531, 3100, 9692, 1557, 2807, 4048, 5551, 8364, 6750, 2387, 4664, 6051, 5220, 8248, 3120, 8206, 1699, 8001, 5487, 6349, 9532, 6359, 2799, 2566, 6376, 5761, 5411, 8123, 5963, 2936, 3878, 4256, 8195, 4167, 8340, 4901, 7882, 3146, 4993, 2758, 9409, 4254, 4353, 1313, 4226, 9576, 8939, 4591, 6494, 7464, 2260, 1513, 8972, 2325, 7217, 7356, 3466, 5443, 1555, 9511, 7495, 6748, 8324, 8998, 1412, 1289, 1477, 6731, 5166, 7174, 5349, 8492, 5686, 9339, 9841, 8930, 8020, 2629, 6428, 7657, 2055, 9293, 1901, 7041, 5967, 9813, 1175, 3614, 7933, 7954, 8121, 5871, 6970, 5415, 6502, 8312, 1828, 5844, 2834, 9328, 7405, 4722, 9343, 9283, 4203, 8065, 5527, 8176, 5649, 1670, 9772, 8525, 6495, 2431, 3510, 4869, 9754, 3322, 9903, 2342, 5514, 5418, 9421, 8473, 3147, 9686, 7178, 1376, 2484, 7298, 3171, 8617, 2269, 6463, 2655, 2495, 6905, 2982, 5351, 4989, 6486, 4957, 8390, 7291, 5092, 8311, 7440, 4313, 4818, 8251, 5476, 6792, 6278, 4637, 3462, 5028, 5931, 1665, 4903, 9659, 6152, 6621, 9948, 4304, 7977, 4758, 3955, 2916, 9325, 5400, 5671, 3858, 4230, 7775, 9041, 8586, 6075, 4452, 1228, 2201, 8833, 8055, 7055, 2994, 8280, 6321, 6076, 7719, 1158, 1017, 3044, 7274, 7250, 1833, 7635, 8590, 9875, 7639, 1539, 4053, 6900, 8937, 3205, 7613, 4458, 2967, 5490, 5144, 1738, 3932, 8170, 5475, 4169, 1911, 5276, 8754, 8870, 6515, 5939, 7561, 5879, 8914, 5275, 7535, 1594, 6790, 1884, 8879, 6462, 8107, 8991, 4980, 5753, 2737, 8608, 5689, 1727, 9290, 8515, 2072, 8302, 9312, 7680, 6019, 5152, 8809, 4460, 3062, 5171, 7572, 9028, 4089, 5263, 9597, 7258, 1617, 6443, 4068, 4539, 6729, 1770, 3482, 4536, 4497, 5886, 4844, 9117, 9940, 3093, 5849, 3657, 8015, 9273, 8953, 3503, 8377, 5763, 6119, 7432, 5309, 8375, 8994, 9889, 8047, 7396, 5184, 5239, 6115, 3812, 7248, 7588, 1501, 2990, 9111, 7582, 4391, 8653, 3202, 7780, 5396, 1495, 7285, 8938, 9154, 3057, 5826, 6691, 4377, 6534, 8785, 4232, 2414, 8591, 4801, 9856, 6038, 9081, 8246, 7811, 5783, 6382, 1430, 7963, 6596, 4393, 5501, 4680, 7785, 2548, 8517, 7030, 9887, 2095, 9776, 8327, 1589, 4534, 7473, 8559, 6987, 9500, 1570, 7235, 1556, 2090, 6438, 5995, 8604, 4781, 9132, 5204, 3386, 3786, 9596, 3591, 7647, 8080, 4745, 9669, 5325, 9419, 1441, 8284, 1551, 7297, 9760, 7219, 5093, 8406, 9943, 3708, 9315, 5700, 9907, 4727, 9553, 8456, 7336, 8428, 3916, 2237, 2506, 6106, 9850, 9961, 5989, 6714, 5688, 5650, 3164, 8455, 3288, 7756, 1149, 3310, 3258, 3447, 1145, 1490, 2666, 1921, 8522, 8807, 5614, 9963, 8721, 1095, 7596, 8357, 1129, 8382, 2538, 4028, 9747, 4211, 9101, 5997, 7224, 3297, 1166, 2766, 5209, 2983, 2870, 6285, 9519, 8199, 9562, 2500, 6797, 4099, 2487, 9476, 6402, 3672, 2147, 4071, 5315, 7979, 7884, 9446, 9870, 8846, 3877, 2298, 8367, 4857, 3646, 7225, 7943, 5960, 4372, 6306, 6141, 3450, 6262, 5467, 1974, 4847, 4218, 7313, 8502, 4155, 9600]\n"
     ]
    }
   ],
   "source": [
    "\n",
    "num_agents = 999\n",
    "\n",
    "t, n = 0, num_agents\n",
    "while n > 10:\n",
    "    n = n / 10\n",
    "    t += 1\n",
    "\n",
    "available_ids = random.sample(range(10**(t+1), 10**(t+2) + 1), num_agents)  # Unique 3-digit IDs\n",
    "print(f\"Available ids: {available_ids}\")"
   ]
  }
 ],
 "metadata": {
  "kernelspec": {
   "display_name": "venv",
   "language": "python",
   "name": "python3"
  },
  "language_info": {
   "codemirror_mode": {
    "name": "ipython",
    "version": 3
   },
   "file_extension": ".py",
   "mimetype": "text/x-python",
   "name": "python",
   "nbconvert_exporter": "python",
   "pygments_lexer": "ipython3",
   "version": "3.11.4"
  }
 },
 "nbformat": 4,
 "nbformat_minor": 2
}
