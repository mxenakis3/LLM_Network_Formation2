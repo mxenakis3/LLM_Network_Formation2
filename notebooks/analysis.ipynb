{
 "cells": [
  {
   "cell_type": "code",
   "execution_count": null,
   "id": "b9055c78",
   "metadata": {},
   "outputs": [],
   "source": [
    "import os\n",
    "import pickle\n",
    "import numpy as np\n",
    "from utils.log_functions import *\n",
    "from utils.network_plots import *\n",
    "\n",
    "%load_ext autoreload\n",
    "%autoreload  "
   ]
  },
  {
   "cell_type": "code",
   "execution_count": 2,
   "id": "cb8b8902",
   "metadata": {},
   "outputs": [
    {
     "name": "stdout",
     "output_type": "stream",
     "text": [
      "Plot saved to .\\outputs\\std_trials_2025-05-01_15-22-32\\avg_degree_plots.png\n"
     ]
    },
    {
     "name": "stderr",
     "output_type": "stream",
     "text": [
      "c:\\Users\\Matheo\\Desktop\\MS CS\\V2\\venv\\Lib\\site-packages\\numpy\\lib\\function_base.py:2742: RuntimeWarning: invalid value encountered in subtract\n",
      "  X -= avg[:, None]\n"
     ]
    },
    {
     "name": "stdout",
     "output_type": "stream",
     "text": [
      "Plot saved to .\\outputs\\std_trials_2025-05-01_15-22-32\\avg_spls_plots.png\n",
      "Plot saved to .\\outputs\\std_trials_2025-05-01_15-22-32\\avg_rewards.png\n"
     ]
    }
   ],
   "source": [
    "# load files -- paste name here\n",
    "dir_path = f\".\\outputs\\std_trials_2025-05-01_15-22-32\"\n",
    "with open(os.path.join(dir_path, f\"networks_standard\"), \"rb\") as f:\n",
    "    networks_standard_list = pickle.load(f)\n",
    "    networks_standard_list = np.array(networks_standard_list)\n",
    "with open(os.path.join(dir_path, f\"unanimous_standard\"), \"rb\") as f:\n",
    "    unanimous_standard_list = pickle.load(f)\n",
    "    unanimous_standard_list = np.array(unanimous_standard_list)\n",
    "with open(os.path.join(dir_path, f\"rewards_standard\"), \"rb\") as f:\n",
    "    rewards_standard_list = pickle.load(f)\n",
    "    rewards_standard_list = np.array(rewards_standard_list)\n",
    "with open(os.path.join(dir_path, f\"degrees_standard\"), \"rb\") as f:\n",
    "    degrees_standard_list = pickle.load(f)\n",
    "    degrees_standard_list = np.array(degrees_standard_list)\n",
    "with open(os.path.join(dir_path, f\"spls_standard\"), \"rb\") as f:\n",
    "    spls_standard_list = pickle.load(f)\n",
    "    spls_standard_list = np.array(spls_standard_list)\n",
    "\n",
    "plot_across_pdfs(degrees_standard_list,\n",
    "                  f\"Degree Distributions - Multiple Trials\",\n",
    "                    f\"Degree\",\n",
    "                      f\"Probabilities\",\n",
    "                        \"blue\",\n",
    "                        os.path.join(dir_path, f\"avg_degree_plots.png\"))\n",
    "\n",
    "plot_across_pdfs(spls_standard_list,\n",
    "                  f\"Shortest Path Length Distributions - Multiple Trials\",\n",
    "                    f\"Shortest Path Length\",\n",
    "                      f\"Probabilities\",\n",
    "                      \"red\",\n",
    "                        os.path.join(dir_path, f\"avg_spls_plots.png\"))    \n",
    "\n",
    "histogram_from_lol(rewards_standard_list, \n",
    "                    f\"Average Rewards - Multiple Trials\",\n",
    "                    f\"Average Reward\",\n",
    "                    f\"Frequency\",\n",
    "                    os.path.join(dir_path, f\"avg_rewards.png\"))\n",
    "\n"
   ]
  },
  {
   "cell_type": "code",
   "execution_count": 3,
   "id": "d1541bce",
   "metadata": {},
   "outputs": [
    {
     "name": "stdout",
     "output_type": "stream",
     "text": [
      "[(458, {'color': '1'}), (394, {'color': '1'}), (162, {'color': '0'}), (485, {'color': '1'}), (711, {'color': '1'}), (941, {'color': '1'}), (246, {'color': '1'}), (943, {'color': '1'}), (909, {'color': '1'}), (854, {'color': '1'}), (668, {'color': '1'}), (853, {'color': None}), (948, {'color': '1'}), (706, {'color': '1'}), (619, {'color': '1'}), (749, {'color': '1'}), (177, {'color': '1'}), (491, {'color': None}), (848, {'color': '1'}), (501, {'color': '1'}), (969, {'color': '1'}), (730, {'color': '1'}), (411, {'color': '1'}), (219, {'color': '1'}), (952, {'color': '1'}), (193, {'color': None}), (828, {'color': '1'}), (614, {'color': '1'}), (972, {'color': '0'}), (341, {'color': '1'}), (766, {'color': '1'}), (608, {'color': '1'}), (833, {'color': '1'}), (312, {'color': '1'}), (479, {'color': '1'}), (349, {'color': '1'})]\n",
      "[(458, 341, {}), (458, 952, {}), (458, 614, {}), (458, 501, {}), (458, 833, {}), (458, 312, {}), (458, 848, {}), (458, 668, {}), (458, 943, {}), (458, 706, {}), (458, 411, {}), (458, 828, {}), (458, 479, {}), (394, 766, {}), (394, 349, {}), (394, 969, {}), (394, 948, {}), (394, 909, {}), (162, 972, {}), (162, 969, {}), (485, 948, {}), (485, 749, {}), (711, 501, {}), (711, 619, {}), (941, 341, {}), (941, 411, {}), (246, 501, {}), (854, 501, {}), (853, 491, {}), (177, 952, {}), (501, 730, {}), (219, 952, {})]\n"
     ]
    }
   ],
   "source": [
    "net_0 = networks_standard_list[2].network\n",
    "print(net_0.nodes(data=True))\n",
    "print(net_0.edges.data())"
   ]
  },
  {
   "cell_type": "code",
   "execution_count": 4,
   "id": "7b9f0b58",
   "metadata": {},
   "outputs": [
    {
     "name": "stdout",
     "output_type": "stream",
     "text": [
      "100\n"
     ]
    }
   ],
   "source": [
    "print(len(networks_standard_list))"
   ]
  }
 ],
 "metadata": {
  "kernelspec": {
   "display_name": "venv",
   "language": "python",
   "name": "python3"
  },
  "language_info": {
   "codemirror_mode": {
    "name": "ipython",
    "version": 3
   },
   "file_extension": ".py",
   "mimetype": "text/x-python",
   "name": "python",
   "nbconvert_exporter": "python",
   "pygments_lexer": "ipython3",
   "version": "3.11.4"
  }
 },
 "nbformat": 4,
 "nbformat_minor": 5
}
